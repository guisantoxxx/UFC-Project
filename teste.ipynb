{
 "cells": [
  {
   "cell_type": "markdown",
   "metadata": {},
   "source": [
    "# Atualização do Dataset e Uso para Validação do Modelo\n",
    "\n",
    "## Status do Dataset\n",
    "\n",
    "O dataset utilizado em nosso projeto foi **atualizado até outubro de 2024**. No entanto, ele contém registros de lutas que ocorrerão em **14 de dezembro de 2024**. Esses dados futuros serão utilizados para ilustrar a eficácia do modelo, permitindo uma avaliação mais robusta e realista de seu desempenho.\n"
   ]
  },
  {
   "cell_type": "code",
   "execution_count": 157,
   "metadata": {},
   "outputs": [],
   "source": [
    "import pandas as pd\n",
    "import numpy as np"
   ]
  },
  {
   "cell_type": "markdown",
   "metadata": {},
   "source": [
    "Primeiramente, realizaremos a leitura dos dados das 13 lutas que serão analisadas. Para garantir que o modelo possa utilizá-los corretamente, aplicaremos o mesmo processo de tratamento e pré-processamento utilizado nos dados de treinamento, assegurando consistência e compatibilidade entre as amostras."
   ]
  },
  {
   "cell_type": "code",
   "execution_count": 158,
   "metadata": {},
   "outputs": [],
   "source": [
    "test_fights = pd.read_csv('data/upcoming.csv')\n",
    "training_data = pd.read_csv('data/ufc-master.csv')\n",
    "\n",
    "data = pd.concat([test_fights, training_data])"
   ]
  },
  {
   "cell_type": "code",
   "execution_count": 159,
   "metadata": {},
   "outputs": [],
   "source": [
    "data = data.drop(columns=[\n",
    "    'RedExpectedValue', \n",
    "    'BlueExpectedValue', \n",
    "    'EmptyArena', \n",
    "    'BMatchWCRank', \n",
    "    'RMatchWCRank',\n",
    "    'RWFlyweightRank',\n",
    "    'RWFeatherweightRank',\n",
    "    'RWStrawweightRank',\n",
    "    'RWBantamweightRank',\n",
    "    'RHeavyweightRank',\n",
    "    'RLightHeavyweightRank',\n",
    "    'RMiddleweightRank',\n",
    "    'RWelterweightRank',\n",
    "    'RLightweightRank',\n",
    "    'RFeatherweightRank',\n",
    "    'RBantamweightRank',\n",
    "    'RFlyweightRank',\n",
    "    'RPFPRank',\n",
    "    'BWFlyweightRank',\n",
    "    'BWFeatherweightRank',\n",
    "    'BWStrawweightRank',\n",
    "    'BWBantamweightRank',\n",
    "    'BHeavyweightRank',\n",
    "    'BLightHeavyweightRank',\n",
    "    'BMiddleweightRank',\n",
    "    'BWelterweightRank',\n",
    "    'BLightweightRank',\n",
    "    'BFeatherweightRank',\n",
    "    'BBantamweightRank',\n",
    "    'BFlyweightRank',\n",
    "    'BPFPRank',\n",
    "    'FinishDetails',\n",
    "    'FinishRoundTime',\n",
    "    'RedDecOdds',\n",
    "    'BlueDecOdds',\n",
    "    'RSubOdds',\n",
    "    'BSubOdds',\n",
    "    'RKOOdds',\n",
    "    'BKOOdds',\n",
    "    'TotalFightTimeSecs',\n",
    "    'Finish',\n",
    "    'FinishRound',\n",
    "    'Location',\n",
    "    'Country',\n",
    "    'BlueOdds',\n",
    "    'RedOdds'\n",
    "])\n",
    "\n",
    "\n"
   ]
  },
  {
   "cell_type": "code",
   "execution_count": 160,
   "metadata": {},
   "outputs": [],
   "source": [
    "global_red_sig_str_mean = data['RedAvgSigStrLanded'].mean()\n",
    "global_blue_sig_str_mean = data['BlueAvgSigStrLanded'].mean()\n",
    "\n",
    "data['RedAvgSigStrLanded'] = (\n",
    "    data['RedAvgSigStrLanded']\n",
    "    .fillna(data.groupby('RedFighter')['RedAvgSigStrLanded'].transform('mean'))\n",
    "    .fillna(global_red_sig_str_mean)\n",
    ")\n",
    "\n",
    "data['BlueAvgSigStrLanded'] = (\n",
    "    data['BlueAvgSigStrLanded']\n",
    "    .fillna(data.groupby('BlueFighter')['BlueAvgSigStrLanded'].transform('mean'))\n",
    "    .fillna(global_blue_sig_str_mean)\n",
    ")"
   ]
  },
  {
   "cell_type": "code",
   "execution_count": 161,
   "metadata": {},
   "outputs": [],
   "source": [
    "global_red_sig_str_pctmean = data['RedAvgSigStrPct'].mean()\n",
    "global_blue_sig_str_pctmean = data['BlueAvgSigStrPct'].mean()\n",
    "\n",
    "data['RedAvgSigStrPct'] = (\n",
    "    data['RedAvgSigStrPct']\n",
    "    .fillna(data.groupby('RedFighter')['RedAvgSigStrPct'].transform('mean'))\n",
    "    .fillna(global_red_sig_str_pctmean)\n",
    ")\n",
    "\n",
    "data['BlueAvgSigStrPct'] = (\n",
    "    data['BlueAvgSigStrPct']\n",
    "    .fillna(data.groupby('BlueFighter')['BlueAvgSigStrPct'].transform('mean'))\n",
    "    .fillna(global_blue_sig_str_pctmean)\n",
    ")"
   ]
  },
  {
   "cell_type": "code",
   "execution_count": 162,
   "metadata": {},
   "outputs": [],
   "source": [
    "global_red_sub_att_mean = data['RedAvgSubAtt'].mean()\n",
    "global_blue_sub_att_mean = data['BlueAvgSubAtt'].mean()\n",
    "\n",
    "data['RedAvgSubAtt'] = (\n",
    "    data['RedAvgSubAtt']\n",
    "    .fillna(data.groupby('RedFighter')['RedAvgSubAtt'].transform('mean'))\n",
    "    .fillna(global_red_sub_att_mean)\n",
    ")\n",
    "\n",
    "data['BlueAvgSubAtt'] = (\n",
    "    data['BlueAvgSubAtt']\n",
    "    .fillna(data.groupby('BlueFighter')['BlueAvgSubAtt'].transform('mean'))\n",
    "    .fillna(global_blue_sub_att_mean)\n",
    ")"
   ]
  },
  {
   "cell_type": "code",
   "execution_count": 163,
   "metadata": {},
   "outputs": [],
   "source": [
    "global_red_td_mean = data['RedAvgTDLanded'].mean()\n",
    "global_blue_td_mean = data['BlueAvgTDLanded'].mean()\n",
    "\n",
    "data['RedAvgTDLanded'] = (\n",
    "    data['RedAvgTDLanded']\n",
    "    .fillna(data.groupby('RedFighter')['RedAvgTDLanded'].transform('mean'))\n",
    "    .fillna(global_red_td_mean)\n",
    ")\n",
    "\n",
    "data['BlueAvgTDLanded'] = (\n",
    "    data['BlueAvgTDLanded']\n",
    "    .fillna(data.groupby('BlueFighter')['BlueAvgTDLanded'].transform('mean'))\n",
    "    .fillna(global_blue_td_mean)\n",
    ")"
   ]
  },
  {
   "cell_type": "code",
   "execution_count": 164,
   "metadata": {},
   "outputs": [],
   "source": [
    "global_red_td_pct_mean = data['RedAvgTDPct'].mean()\n",
    "global_blue_td_pct_mean = data['BlueAvgTDPct'].mean()\n",
    "\n",
    "data['RedAvgTDPct'] = (\n",
    "    data['RedAvgTDPct']\n",
    "    .fillna(data.groupby('RedFighter')['RedAvgTDPct'].transform('mean'))\n",
    "    .fillna(global_red_td_pct_mean)\n",
    ")\n",
    "\n",
    "data['BlueAvgTDPct'] = (\n",
    "    data['BlueAvgTDPct']\n",
    "    .fillna(data.groupby('BlueFighter')['BlueAvgTDPct'].transform('mean'))\n",
    "    .fillna(global_blue_td_pct_mean)\n",
    ")"
   ]
  },
  {
   "cell_type": "code",
   "execution_count": 165,
   "metadata": {},
   "outputs": [],
   "source": [
    "global_blue_stance_mode = data['BlueStance'].mode()[0]  \n",
    "\n",
    "data['BlueStance'] = (\n",
    "    data['BlueStance']\n",
    "    .fillna(data.groupby('BlueFighter')['BlueStance'].transform(lambda x: x.mode()[0] if not x.mode().empty else np.nan))\n",
    "    .fillna(global_blue_stance_mode)\n",
    ")\n"
   ]
  },
  {
   "cell_type": "markdown",
   "metadata": {},
   "source": [
    "Separando as lutas de teste"
   ]
  },
  {
   "cell_type": "code",
   "execution_count": 166,
   "metadata": {},
   "outputs": [],
   "source": [
    "test_fights= data.merge(\n",
    "    test_fights[['RedFighter', 'BlueFighter', 'Date']],\n",
    "    on=['RedFighter', 'BlueFighter','Date'],\n",
    "    how='inner'\n",
    ")"
   ]
  },
  {
   "cell_type": "code",
   "execution_count": 167,
   "metadata": {},
   "outputs": [],
   "source": [
    "merged = data.merge(\n",
    "    test_fights[['RedFighter', 'BlueFighter', 'Date']],\n",
    "    on=['RedFighter', 'BlueFighter', 'Date'],\n",
    "    how='left',\n",
    "    indicator=True\n",
    ")\n",
    "\n",
    "data = merged[merged['_merge'] == 'left_only']"
   ]
  },
  {
   "cell_type": "markdown",
   "metadata": {},
   "source": [
    "Calculo do elo para as amostras de treino"
   ]
  },
  {
   "cell_type": "code",
   "execution_count": 168,
   "metadata": {},
   "outputs": [],
   "source": [
    "data = data.sort_values(by='Date').reset_index(drop=True)"
   ]
  },
  {
   "cell_type": "code",
   "execution_count": 169,
   "metadata": {},
   "outputs": [],
   "source": [
    "def update_elo(winner_elo, loser_elo, K=32):\n",
    "    \"\"\"\n",
    "    Atualiza o Elo após uma luta.\n",
    "    K = Fator de peso (quanto maior, mais rápido a pontuação muda).\n",
    "    \"\"\"\n",
    "    expected_win = 1 / (1 + 10 ** ((loser_elo - winner_elo) / 400))\n",
    "    change = K * (1 - expected_win)  \n",
    "    \n",
    "    new_winner_elo = winner_elo + change\n",
    "    new_loser_elo = loser_elo - change\n",
    "    \n",
    "    return new_winner_elo, new_loser_elo"
   ]
  },
  {
   "cell_type": "code",
   "execution_count": 170,
   "metadata": {},
   "outputs": [],
   "source": [
    "elo_dict = {}\n",
    "initial_elo = 1200  \n",
    "\n",
    "all_fighters = pd.concat([data['RedFighter'], data['BlueFighter']]).unique()\n",
    "\n",
    "# Inicializar o Elo para todos os lutadores\n",
    "for fighter in all_fighters:\n",
    "    elo_dict[fighter] = initial_elo\n",
    "\n",
    "# Função para atualizar o Elo\n",
    "def update_elo(winner_elo, loser_elo, K=32):\n",
    "    expected_win = 1 / (1 + 10 ** ((loser_elo - winner_elo) / 400))\n",
    "    change = K * (1 - expected_win)\n",
    "    return winner_elo + change, loser_elo - change\n",
    "\n",
    "red_elo_current = []\n",
    "blue_elo_current = []\n",
    "\n",
    "for idx, row in data.iterrows():\n",
    "    red = row['RedFighter']\n",
    "    blue = row['BlueFighter']\n",
    "    winner = row['Winner']\n",
    "    \n",
    "    # Elo atual antes da luta (armazenado no dicionário)\n",
    "    red_elo = elo_dict[red]\n",
    "    blue_elo = elo_dict[blue]\n",
    "    \n",
    "    # Atualizar Elo com base no resultado\n",
    "    if winner == 'Red':\n",
    "        new_red, new_blue = update_elo(red_elo, blue_elo)\n",
    "    elif winner == 'Blue':\n",
    "        new_blue, new_red = update_elo(blue_elo, red_elo)\n",
    "    else:\n",
    "        new_red = red_elo\n",
    "        new_blue = blue_elo\n",
    "    \n",
    "    elo_dict[red] = new_red\n",
    "    elo_dict[blue] = new_blue\n",
    "    \n",
    "    red_elo_current.append(new_red)\n",
    "    blue_elo_current.append(new_blue)\n",
    "\n",
    "data['RedEloCurrent'] = red_elo_current\n",
    "data['BlueEloCurrent'] = blue_elo_current"
   ]
  },
  {
   "cell_type": "code",
   "execution_count": 171,
   "metadata": {},
   "outputs": [],
   "source": [
    "import numpy as np\n",
    "\n",
    "data['EloDiff'] = np.abs(data['RedEloCurrent'] - data['BlueEloCurrent'])"
   ]
  },
  {
   "cell_type": "markdown",
   "metadata": {},
   "source": [
    "Atribui o elo as lutas teste"
   ]
  },
  {
   "cell_type": "code",
   "execution_count": 172,
   "metadata": {},
   "outputs": [],
   "source": [
    "import pandas as pd\n",
    "\n",
    "red_fighters = data[['RedFighter', 'RedEloCurrent', 'Date']].rename(\n",
    "    columns={'RedFighter': 'Fighter', 'RedEloCurrent': 'EloCurrent'}\n",
    ")\n",
    "blue_fighters = data[['BlueFighter', 'BlueEloCurrent', 'Date']].rename(\n",
    "    columns={'BlueFighter': 'Fighter', 'BlueEloCurrent': 'EloCurrent'}\n",
    ")\n",
    "\n",
    "all_fighters = pd.concat([red_fighters, blue_fighters], ignore_index=True)\n",
    "\n",
    "all_fighters['Date'] = pd.to_datetime(all_fighters['Date'])  \n",
    "latest_elos = (\n",
    "    all_fighters\n",
    "    .sort_values('Date')  \n",
    "    .groupby('Fighter')    \n",
    "    .tail(1)               \n",
    "    .set_index('Fighter')['EloCurrent']\n",
    "    .to_dict()\n",
    ")\n",
    "\n",
    "test_fights['RedEloCurrent'] = test_fights['RedFighter'].map(latest_elos)\n",
    "test_fights['BlueEloCurrent'] = test_fights['BlueFighter'].map(latest_elos)\n",
    "\n",
    "\n",
    "test_fights['RedEloCurrent'] = test_fights['RedEloCurrent'].fillna(initial_elo)\n",
    "test_fights['BlueEloCurrent'] = test_fights['BlueEloCurrent'].fillna(initial_elo)\n",
    "test_fights['EloDiff'] = np.abs(test_fights['RedEloCurrent'] - test_fights['BlueEloCurrent'])"
   ]
  },
  {
   "cell_type": "code",
   "execution_count": 173,
   "metadata": {},
   "outputs": [],
   "source": [
    "data = pd.concat([data, test_fights])"
   ]
  },
  {
   "cell_type": "code",
   "execution_count": 174,
   "metadata": {},
   "outputs": [],
   "source": [
    "data = data.drop(columns=['Winner'])"
   ]
  },
  {
   "cell_type": "code",
   "execution_count": 175,
   "metadata": {},
   "outputs": [],
   "source": [
    "from sklearn.preprocessing import QuantileTransformer\n",
    "\n",
    "colunas_a_normalizar = [\n",
    "    'BlueHeightCms', 'BlueReachCms', 'BlueWeightLbs',\n",
    "    'RedHeightCms', 'RedReachCms', 'RedWeightLbs',\n",
    "    'RedEloCurrent', 'BlueEloCurrent', 'EloDiff'\n",
    "]\n",
    "\n",
    "transformer = QuantileTransformer()\n",
    "data[colunas_a_normalizar] = transformer.fit_transform(data[colunas_a_normalizar])\n"
   ]
  },
  {
   "cell_type": "code",
   "execution_count": 176,
   "metadata": {},
   "outputs": [],
   "source": [
    "data = data.drop(columns=['_merge'])"
   ]
  },
  {
   "cell_type": "code",
   "execution_count": 177,
   "metadata": {},
   "outputs": [],
   "source": [
    "object_cols = data.select_dtypes(include=['object']).columns.difference(['RedFighter', 'BlueFighter', 'Date'])\n",
    "\n",
    "\n",
    "data = pd.get_dummies(data, columns=object_cols)"
   ]
  },
  {
   "cell_type": "code",
   "execution_count": 178,
   "metadata": {},
   "outputs": [],
   "source": [
    "test_fights= data.merge(\n",
    "    test_fights[['RedFighter', 'BlueFighter', 'Date']],\n",
    "    on=['RedFighter', 'BlueFighter','Date'],\n",
    "    how='inner'\n",
    ")"
   ]
  },
  {
   "cell_type": "code",
   "execution_count": 179,
   "metadata": {},
   "outputs": [],
   "source": [
    "from sklearn.preprocessing import LabelEncoder\n",
    "\n",
    "lencoder = LabelEncoder()\n",
    "\n",
    "all_fighters = pd.concat([data['RedFighter'], data['BlueFighter']]).unique()\n",
    "\n",
    "lencoder.fit(all_fighters)\n",
    "\n",
    "test_fights['RedFighter'] = lencoder.transform(test_fights['RedFighter'])\n",
    "test_fights['BlueFighter'] = lencoder.transform(test_fights['BlueFighter'])\n",
    "\n",
    "data['RedFighter'] = lencoder.transform(data['RedFighter'])\n",
    "data['BlueFighter'] = lencoder.transform(data['BlueFighter'])\n"
   ]
  },
  {
   "cell_type": "code",
   "execution_count": 180,
   "metadata": {},
   "outputs": [],
   "source": [
    "test_fights_tratados = test_fights.drop(columns=['Date'])"
   ]
  },
  {
   "cell_type": "code",
   "execution_count": 181,
   "metadata": {},
   "outputs": [],
   "source": [
    "dados_treinamento = pd.read_csv('data/dados_tratados.csv')\n",
    "dados_treinamento = dados_treinamento.drop(columns=['Winner'])\n",
    "test_fights_tratados = test_fights_tratados[dados_treinamento.columns]"
   ]
  },
  {
   "cell_type": "code",
   "execution_count": 182,
   "metadata": {},
   "outputs": [],
   "source": [
    "raw_data = pd.read_csv('data/upcoming.csv')"
   ]
  },
  {
   "cell_type": "markdown",
   "metadata": {},
   "source": [
    "## Predicao em lutas sem resultado"
   ]
  },
  {
   "cell_type": "code",
   "execution_count": 183,
   "metadata": {},
   "outputs": [
    {
     "name": "stdout",
     "output_type": "stream",
     "text": [
      "Modelo 'xgboost' carregado com sucesso!\n",
      "Modelo 'random_forest' carregado com sucesso!\n",
      "Modelo 'mlp' carregado com sucesso!\n",
      "Modelo 'logistic_regression' carregado com sucesso!\n"
     ]
    }
   ],
   "source": [
    "import os\n",
    "import joblib\n",
    "import glob\n",
    "\n",
    "def carregar_modelos(diretorio='models'):\n",
    "    modelos = {}\n",
    "    caminho_padro = os.path.join(diretorio, '*.pkl')\n",
    "    \n",
    "    for arquivo in glob.glob(caminho_padro):\n",
    "        nome_modelo = os.path.splitext(os.path.basename(arquivo))[0]\n",
    "        modelo = joblib.load(arquivo)  \n",
    "        modelos[nome_modelo] = modelo\n",
    "        print(f\"Modelo '{nome_modelo}' carregado com sucesso!\")\n",
    "    \n",
    "    return modelos\n",
    "\n",
    "modelos_carregados = carregar_modelos()\n"
   ]
  },
  {
   "cell_type": "markdown",
   "metadata": {},
   "source": [
    "Como o modelo com a melhor acuracia media ao utilizar o cross-validation foi a Regressao Logistica, sera ela que iremos utilizar para as predicoes"
   ]
  },
  {
   "cell_type": "markdown",
   "metadata": {},
   "source": [
    "### Predicao de Lutas"
   ]
  },
  {
   "cell_type": "code",
   "execution_count": 184,
   "metadata": {},
   "outputs": [
    {
     "name": "stdout",
     "output_type": "stream",
     "text": [
      "Luta 1 - Colby Covington vs Joaquin Buckley\n",
      "Probabilidade do vencedor ser Colby Covington: 45.24%\n",
      "Probabilidade do vencedor ser Joaquin Buckley: 54.76%\n",
      "\n",
      "Luta 2 - Cub Swanson vs Billy Quarantillo\n",
      "Probabilidade do vencedor ser Cub Swanson: 80.70%\n",
      "Probabilidade do vencedor ser Billy Quarantillo: 19.30%\n",
      "\n",
      "Luta 3 - Manel Kape vs Bruno Silva\n",
      "Probabilidade do vencedor ser Manel Kape: 47.35%\n",
      "Probabilidade do vencedor ser Bruno Silva: 52.65%\n",
      "\n",
      "Luta 4 - Vitor Petrino vs Dustin Jacoby\n",
      "Probabilidade do vencedor ser Vitor Petrino: 95.45%\n",
      "Probabilidade do vencedor ser Dustin Jacoby: 4.55%\n",
      "\n",
      "Luta 5 - Adrian Yanez vs Daniel Marcos\n",
      "Probabilidade do vencedor ser Adrian Yanez: 67.03%\n",
      "Probabilidade do vencedor ser Daniel Marcos: 32.97%\n",
      "\n",
      "Luta 6 - Navajo Stirling vs Tuco Tokkos\n",
      "Probabilidade do vencedor ser Navajo Stirling: 95.61%\n",
      "Probabilidade do vencedor ser Tuco Tokkos: 4.39%\n",
      "\n",
      "Luta 7 - Michael Johnson vs Ottman Azaitar\n",
      "Probabilidade do vencedor ser Michael Johnson: 75.69%\n",
      "Probabilidade do vencedor ser Ottman Azaitar: 24.31%\n",
      "\n",
      "Luta 8 - Joel Alvarez vs Drakkar Klose\n",
      "Probabilidade do vencedor ser Joel Alvarez: 95.25%\n",
      "Probabilidade do vencedor ser Drakkar Klose: 4.75%\n",
      "\n",
      "Luta 9 - Sean Woodson vs Fernando Padilla\n",
      "Probabilidade do vencedor ser Sean Woodson: 80.35%\n",
      "Probabilidade do vencedor ser Fernando Padilla: 19.65%\n",
      "\n",
      "Luta 10 - Miles Johns vs Felipe Lima\n",
      "Probabilidade do vencedor ser Miles Johns: 88.63%\n",
      "Probabilidade do vencedor ser Felipe Lima: 11.37%\n",
      "\n",
      "Luta 11 - Miranda Maverick vs Jamey-Lyn Horth\n",
      "Probabilidade do vencedor ser Miranda Maverick: 88.23%\n",
      "Probabilidade do vencedor ser Jamey-Lyn Horth: 11.77%\n",
      "\n",
      "Luta 12 - Davey Grant vs Ramon Taveras\n",
      "Probabilidade do vencedor ser Davey Grant: 63.95%\n",
      "Probabilidade do vencedor ser Ramon Taveras: 36.05%\n",
      "\n",
      "Luta 13 - Josefine Knutsson vs Piera Rodriguez\n",
      "Probabilidade do vencedor ser Josefine Knutsson: 89.88%\n",
      "Probabilidade do vencedor ser Piera Rodriguez: 10.12%\n",
      "\n"
     ]
    }
   ],
   "source": [
    "for i in range(len(raw_data)):\n",
    "    X = dados_treinamento.iloc[[i], :].values  \n",
    "    resultados = modelos_carregados['logistic_regression'].predict_proba(X)\n",
    "\n",
    "    print(f\"Luta {i + 1} - {raw_data['RedFighter'][i]} vs {raw_data['BlueFighter'][i]}\")\n",
    "    print(f\"Probabilidade do vencedor ser {raw_data['RedFighter'][i]}: {resultados[0][1] * 100:.2f}%\")\n",
    "    print(f\"Probabilidade do vencedor ser {raw_data['BlueFighter'][i]}: {resultados[0][0] * 100:.2f}%\\n\")\n"
   ]
  },
  {
   "cell_type": "markdown",
   "metadata": {},
   "source": [
    "### Analise das Predicoes\n",
    "\n",
    "* Luta 1: Acerto do modelo ✅\n",
    "\n",
    "* Luta 2: Acerto do modelo ✅\n",
    "\n",
    "* Luta 3: Erro do modelo ❌\n",
    "\n",
    "* Luta 4: Acerto do modelo ✅\n",
    "\n",
    "* Luta 5: Erro do modelo ❌\n",
    "\n",
    "* Luta 6: Acerto do modelo ✅\n",
    "\n",
    "* Luta 7: Acerto do modelo ✅\n",
    "\n",
    "* Luta 8: Acerto do modelo ✅\n",
    "\n",
    "* Luta 9: Acerto do modelo ✅\n",
    "\n",
    "* Luta 10: Erro do modelo ❌\n",
    "\n",
    "* Luta 11: Acerto do modelo ✅\n",
    "\n",
    "* Luta 12: Acerto do modelo ✅\n",
    "\n",
    "* Luta 13: Erro do modelo ❌"
   ]
  },
  {
   "cell_type": "markdown",
   "metadata": {},
   "source": [
    "# Análise do Modelo de Previsão para Apostas no MMA\n",
    "\n",
    "## Resultados Obtidos\n",
    "\n",
    "Após testar o modelo neste pequeno conjunto de dados, obtivemos uma **acurácia média de 70%**. Apesar da queda na acurácia em comparação com os resultados obtidos durante o **cross-validation**, isso pode estar relacionado ao tamanho reduzido do conjunto de testes, que pode sofrer com a **variabilidade devido ao número limitado de amostras**. Conjuntos menores são mais suscetíveis a flutuações estatísticas, o que pode distorcer a avaliação do desempenho real do modelo.\n",
    "\n",
    "Mesmo assim, o modelo se mostra **mais eficaz** do que simplesmente seguir a **odd mais baixa** (considerada a mais segura) para se apostar, uma técnica que tem uma eficácia média de cerca de **65%** das ocasiões, conforme observado em análises históricas.\n",
    "\n",
    "---\n",
    "\n",
    "## A Importância de Machine Learning no MMA\n",
    "\n",
    "Em suma, apesar da **imprevisibilidade presente no mundo do MMA**, onde fatores como lesões, imprevistos durante as lutas e a volatilidade dos atletas muitas vezes contradizem as probabilidades estimadas, o uso de técnicas de **machine learning** permite trazer um pouco de **previsibilidade e embasamento científico** a este ambiente caótico.\n",
    "\n",
    "A aplicação de modelos preditivos não apenas supera estratégias simplistas, como seguir as odds mais baixas, mas também abre caminho para análises mais sofisticadas, considerando variáveis como:\n",
    "\n",
    "- **Estilo de luta** (grappler vs. striker)\n",
    "- **Histórico de desempenho** dos atletas\n",
    "\n",
    "---\n",
    "\n",
    "## Limitações e Considerações Finais\n",
    "\n",
    "No entanto, é importante ressaltar que **nenhum modelo é infalível**, especialmente em um domínio tão dinâmico quanto o MMA. A combinação de:\n",
    "\n",
    "1. **Dados históricos**\n",
    "2. **Análise estatística**\n",
    "3. **Entendimento contextual** das lutas\n",
    "\n",
    "pode maximizar a eficácia das previsões, mas a **incerteza** sempre será uma parte intrínseca desse esporte. Portanto, o uso de machine learning deve ser visto como uma **ferramenta complementar**, capaz de auxiliar na tomada de decisões, mas não como uma garantia absoluta de sucesso.\n",
    "\n",
    "---"
   ]
  }
 ],
 "metadata": {
  "kernelspec": {
   "display_name": "Python 3",
   "language": "python",
   "name": "python3"
  },
  "language_info": {
   "codemirror_mode": {
    "name": "ipython",
    "version": 3
   },
   "file_extension": ".py",
   "mimetype": "text/x-python",
   "name": "python",
   "nbconvert_exporter": "python",
   "pygments_lexer": "ipython3",
   "version": "3.10.12"
  }
 },
 "nbformat": 4,
 "nbformat_minor": 2
}
