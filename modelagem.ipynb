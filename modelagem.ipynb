{
 "cells": [
  {
   "cell_type": "code",
   "execution_count": 33,
   "metadata": {},
   "outputs": [],
   "source": [
    "import pandas as pd"
   ]
  },
  {
   "cell_type": "code",
   "execution_count": 34,
   "metadata": {},
   "outputs": [],
   "source": [
    "dados = pd.read_csv('dados_tratados.csv')"
   ]
  },
  {
   "cell_type": "code",
   "execution_count": 35,
   "metadata": {},
   "outputs": [],
   "source": [
    "y = dados['Winner'].values\n",
    "X = dados.drop(columns=['Winner']).values"
   ]
  },
  {
   "cell_type": "markdown",
   "metadata": {},
   "source": [
    "XGBoost"
   ]
  },
  {
   "cell_type": "code",
   "execution_count": null,
   "metadata": {},
   "outputs": [],
   "source": [
    "from xgboost import XGBClassifier\n",
    "from sklearn.model_selection import GridSearchCV\n",
    "\n",
    "param_grid = {\n",
    "    'n_estimators': [100, 150, 200, 250, 300],\n",
    "    'max_depth': [10, 20, 30, 50],\n",
    "    'learning_rate': [0.01, 0.1, 0.2, 0.3],\n",
    "    'subsample': [0.8, 1.0],\n",
    "}\n",
    "\n",
    "grid_search = GridSearchCV(\n",
    "    XGBClassifier(random_state=42, eval_metric='mlogloss'),\n",
    "    param_grid,\n",
    "    cv=10,\n",
    "    scoring=\"accuracy\",\n",
    "    n_jobs=-1,\n",
    ")\n",
    "\n",
    "grid_search.fit(X, y)\n",
    "\n",
    "print(f\"Melhor parâmetros: {grid_search.best_params_}\")\n",
    "print(f\"Melhor Acurácia: {grid_search.best_score_ * 100:.2f}%\")\n"
   ]
  },
  {
   "cell_type": "markdown",
   "metadata": {},
   "source": [
    "Random Forest"
   ]
  },
  {
   "cell_type": "code",
   "execution_count": null,
   "metadata": {},
   "outputs": [],
   "source": [
    "from sklearn.ensemble import RandomForestClassifier\n",
    "\n",
    "param_grid = {\n",
    "    'n_estimators': [100, 150, 200, 250, 300],  \n",
    "    'max_depth': [None, 10, 20, 30, 50],  \n",
    "    'min_samples_split': [2, 5, 10],  \n",
    "    'min_samples_leaf': [1, 2, 4]\n",
    "}\n",
    "\n",
    "\n",
    "\n",
    "grid_search = GridSearchCV(\n",
    "    RandomForestClassifier(random_state=42),\n",
    "    param_grid,\n",
    "    cv=10,\n",
    "    scoring=\"accuracy\",\n",
    "    n_jobs=-1,\n",
    ")\n",
    "grid_search.fit(X, y)\n",
    "\n",
    "print(f\"Melhor n_estimators: {grid_search.best_params_}\")\n",
    "print(f\"Melhor Acurácia: {grid_search.best_score_ * 100:.2f}%\")"
   ]
  },
  {
   "cell_type": "markdown",
   "metadata": {},
   "source": [
    "SVC"
   ]
  },
  {
   "cell_type": "code",
   "execution_count": null,
   "metadata": {},
   "outputs": [],
   "source": [
    "from sklearn.svm import SVC\n",
    "\n",
    "param_grid = {\n",
    "    'C': [0.1, 1, 10, 100],               \n",
    "    'kernel': ['linear', 'rbf', 'poly'],  \n",
    "    'gamma': ['scale', 'auto', 0.1, 1],   \n",
    "    'degree': [2, 3, 4],                  \n",
    "}\n",
    "\n",
    "# Criando o GridSearchCV\n",
    "grid_search = GridSearchCV(\n",
    "    SVC(random_state=42),                  \n",
    "    param_grid,                           \n",
    "    cv=10,                                \n",
    "    scoring=\"accuracy\",                    \n",
    "    n_jobs=-1                             \n",
    ")\n",
    "\n",
    "grid_search.fit(X, y)\n",
    "\n",
    "print(f\"Melhores parâmetros: {grid_search.best_params_}\")\n",
    "print(f\"Melhor Acurácia: {grid_search.best_score_ * 100:.2f}%\")"
   ]
  },
  {
   "cell_type": "markdown",
   "metadata": {},
   "source": [
    "Regressao Logistica"
   ]
  },
  {
   "cell_type": "code",
   "execution_count": null,
   "metadata": {},
   "outputs": [],
   "source": [
    "from sklearn.linear_model import LogisticRegression\n",
    "from sklearn.model_selection import GridSearchCV\n",
    "\n",
    "param_grid = {\n",
    "    'C': [0.01, 0.1, 1, 10, 100],  \n",
    "    'penalty': ['l1', 'l2'],       \n",
    "    'solver': ['liblinear'],      \n",
    "    'max_iter': [100, 200, 300]   \n",
    "}\n",
    "\n",
    "grid_search = GridSearchCV(\n",
    "    LogisticRegression(random_state=42),  \n",
    "    param_grid,                           \n",
    "    cv=10,                              \n",
    "    scoring=\"accuracy\",                  \n",
    "    n_jobs=-1                             \n",
    ")\n",
    "\n",
    "grid_search.fit(X, y)\n",
    "\n",
    "print(f\"Melhores parâmetros: {grid_search.best_params_}\")\n",
    "print(f\"Melhor Acurácia: {grid_search.best_score_ * 100:.2f}%\")"
   ]
  },
  {
   "cell_type": "markdown",
   "metadata": {},
   "source": [
    "MLP"
   ]
  },
  {
   "cell_type": "code",
   "execution_count": null,
   "metadata": {},
   "outputs": [],
   "source": [
    "from sklearn.neural_network import MLPClassifier\n",
    "from sklearn.model_selection import GridSearchCV\n",
    "\n",
    "param_grid = {\n",
    "    'hidden_layer_sizes': [(50,), (100,), (50, 50)],  \n",
    "    'activation': ['relu', 'tanh', 'logistic'],       \n",
    "    'learning_rate_init': [0.001, 0.01, 0.1],         \n",
    "    'max_iter': [100, 200, 300],                      \n",
    "    'solver': ['adam', 'sgd'],                      \n",
    "}\n",
    "\n",
    "grid_search = GridSearchCV(\n",
    "    MLPClassifier(random_state=42, early_stopping=True),  \n",
    "    param_grid,                                        \n",
    "    cv=10,                                              \n",
    "    scoring=\"accuracy\",                                 \n",
    "    n_jobs=-1                                           \n",
    ")\n",
    "\n",
    "grid_search.fit(X, y)\n",
    "\n",
    "print(f\"Melhores parâmetros: {grid_search.best_params_}\")\n",
    "print(f\"Melhor Acurácia: {grid_search.best_score_ * 100:.2f}%\")"
   ]
  },
  {
   "cell_type": "markdown",
   "metadata": {},
   "source": [
    "KNN"
   ]
  },
  {
   "cell_type": "code",
   "execution_count": null,
   "metadata": {},
   "outputs": [],
   "source": [
    "from sklearn.neighbors import KNeighborsClassifier\n",
    "from sklearn.model_selection import GridSearchCV\n",
    "\n",
    "# Definição dos hiperparâmetros para busca\n",
    "param_grid = {\n",
    "    'n_neighbors': [3, 5, 7, 9, 11],  # Número de vizinhos\n",
    "    'weights': ['uniform', 'distance'],  # Peso das amostras vizinhas\n",
    "    'metric': ['euclidean', 'manhattan', 'minkowski'],  # Métrica de distância\n",
    "    'p': [1, 2]  # Parâmetro da métrica Minkowski (1 = Manhattan, 2 = Euclidean)\n",
    "}\n",
    "\n",
    "# Inicializando o GridSearchCV com validação cruzada\n",
    "grid_search = GridSearchCV(\n",
    "    KNeighborsClassifier(),  # Modelo base\n",
    "    param_grid,  # Hiperparâmetros para otimização\n",
    "    cv=10,  # Validação cruzada com 10 folds\n",
    "    scoring=\"accuracy\",  # Métrica de avaliação\n",
    "    n_jobs=-1  # Paralelização para acelerar a busca\n",
    ")\n",
    "\n",
    "# Treinamento do modelo\n",
    "grid_search.fit(X, y)\n",
    "\n",
    "# Exibindo os melhores hiperparâmetros e a melhor acurácia\n",
    "print(f\"Melhores parâmetros: {grid_search.best_params_}\")\n",
    "print(f\"Melhor Acurácia: {grid_search.best_score_ * 100:.2f}%\")\n"
   ]
  },
  {
   "cell_type": "markdown",
   "metadata": {},
   "source": [
    "Naive Bayes"
   ]
  },
  {
   "cell_type": "code",
   "execution_count": null,
   "metadata": {},
   "outputs": [],
   "source": [
    "from sklearn.naive_bayes import GaussianNB\n",
    "from sklearn.model_selection import GridSearchCV\n",
    "\n",
    "param_grid = {\n",
    "    'var_smoothing': [1e-9, 1e-8, 1e-7, 1e-6, 1e-5]  # Ajuste para lidar com variâncias muito baixas\n",
    "}\n",
    "\n",
    "grid_search = GridSearchCV(\n",
    "    GaussianNB(),  \n",
    "    param_grid,                                        \n",
    "    cv=10,                                              \n",
    "    scoring=\"accuracy\",                                 \n",
    "    n_jobs=-1                                           \n",
    ")\n",
    "\n",
    "grid_search.fit(X, y)\n",
    "\n",
    "print(f\"Melhores parâmetros: {grid_search.best_params_}\")\n",
    "print(f\"Melhor Acurácia: {grid_search.best_score_ * 100:.2f}%\")\n"
   ]
  }
 ],
 "metadata": {
  "kernelspec": {
   "display_name": "Python 3",
   "language": "python",
   "name": "python3"
  },
  "language_info": {
   "codemirror_mode": {
    "name": "ipython",
    "version": 3
   },
   "file_extension": ".py",
   "mimetype": "text/x-python",
   "name": "python",
   "nbconvert_exporter": "python",
   "pygments_lexer": "ipython3",
   "version": "3.10.12"
  }
 },
 "nbformat": 4,
 "nbformat_minor": 2
}
